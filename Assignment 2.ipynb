{
 "cells": [
  {
   "cell_type": "markdown",
   "id": "99d43ac6-554c-4b32-a7cc-775094e6a1f4",
   "metadata": {},
   "source": [
    "# 1) Store and display student information (name, age, grade)."
   ]
  },
  {
   "cell_type": "code",
   "execution_count": 1,
   "id": "403050fb-1c9e-4d7d-820a-b146f286cc05",
   "metadata": {},
   "outputs": [
    {
     "name": "stdout",
     "output_type": "stream",
     "text": [
      "Student Information:\n",
      "Name: Alice\n",
      "Age: 14\n",
      "Grade: 9th Grade\n",
      "--------------------\n",
      "Name: Bob\n",
      "Age: 15\n",
      "Grade: 10th Grade\n",
      "--------------------\n",
      "Name: Charlie\n",
      "Age: 13\n",
      "Grade: 8th Grade\n",
      "--------------------\n"
     ]
    }
   ],
   "source": [
    "# Define a class to store student information\n",
    "class Student:\n",
    "    def __init__(self, name, age, grade):\n",
    "        self.name = name\n",
    "        self.age = age\n",
    "        self.grade = grade\n",
    "\n",
    "    def display_info(self):\n",
    "        print(f\"Name: {self.name}\")\n",
    "        print(f\"Age: {self.age}\")\n",
    "        print(f\"Grade: {self.grade}\")\n",
    "        print(\"-\" * 20)\n",
    "\n",
    "# Create a list to hold student objects\n",
    "students = []\n",
    "\n",
    "# Add student records\n",
    "students.append(Student(\"Alice\", 14, \"9th Grade\"))\n",
    "students.append(Student(\"Bob\", 15, \"10th Grade\"))\n",
    "students.append(Student(\"Charlie\", 13, \"8th Grade\"))\n",
    "\n",
    "# Display all student records\n",
    "print(\"Student Information:\")\n",
    "for student in students:\n",
    "    student.display_info()\n"
   ]
  },
  {
   "cell_type": "markdown",
   "id": "f97853e1-312a-432e-bd08-4851c65e0e07",
   "metadata": {},
   "source": [
    "# 2) List prices of grocery items and total them."
   ]
  },
  {
   "cell_type": "code",
   "execution_count": 2,
   "id": "6e33f7f9-579f-431b-a1ad-025c871f5065",
   "metadata": {},
   "outputs": [
    {
     "name": "stdout",
     "output_type": "stream",
     "text": [
      "Grocery Items and Prices:\n",
      "Milk: ₹40\n",
      "Bread: ₹25\n",
      "Eggs: ₹60\n",
      "Rice: ₹80\n",
      "Fruits: ₹100\n",
      "\n",
      "Total Price: ₹ 305\n"
     ]
    }
   ],
   "source": [
    "# Dictionary to store grocery items and their prices\n",
    "grocery_items = {\n",
    "    \"Milk\": 40,\n",
    "    \"Bread\": 25,\n",
    "    \"Eggs\": 60,\n",
    "    \"Rice\": 80,\n",
    "    \"Fruits\": 100\n",
    "}\n",
    "\n",
    "# Display items and prices\n",
    "print(\"Grocery Items and Prices:\")\n",
    "for item, price in grocery_items.items():\n",
    "    print(f\"{item}: ₹{price}\")\n",
    "\n",
    "# Calculate the total price\n",
    "total = sum(grocery_items.values())\n",
    "print(\"\\nTotal Price: ₹\", total)\n"
   ]
  },
  {
   "cell_type": "markdown",
   "id": "cfe1a4be-d5ad-4acc-a1f6-ba24308f8d58",
   "metadata": {},
   "source": [
    "# 3) Pair items with prices using tuples.\n",
    "(&quot;Milk&quot;, 25), (&quot;Eggs&quot;, 50), (&quot;Bread&quot;, 20)"
   ]
  },
  {
   "cell_type": "code",
   "execution_count": 3,
   "id": "505a3909-b8b5-45e4-bb34-6fd44a9441a5",
   "metadata": {},
   "outputs": [
    {
     "name": "stdout",
     "output_type": "stream",
     "text": [
      "Grocery Items and Prices:\n",
      "Milk: ₹25\n",
      "Eggs: ₹50\n",
      "Bread: ₹20\n",
      "\n",
      "Total Price: ₹ 95\n"
     ]
    }
   ],
   "source": [
    "# List of tuples containing item and price\n",
    "grocery_items = [(\"Milk\", 25), (\"Eggs\", 50), (\"Bread\", 20)]\n",
    "\n",
    "# Display items with prices\n",
    "print(\"Grocery Items and Prices:\")\n",
    "for item, price in grocery_items:\n",
    "    print(f\"{item}: ₹{price}\")\n",
    "\n",
    "# Calculate total price\n",
    "total = sum(price for item, price in grocery_items)\n",
    "print(\"\\nTotal Price: ₹\", total)\n"
   ]
  },
  {
   "cell_type": "markdown",
   "id": "4e5b95d3-1dee-4e69-8142-4335a1251c09",
   "metadata": {},
   "source": [
    "# 4) Store and display train schedule as tuples.\n",
    "(&quot;Rajdhani&quot;, &quot;10:00&quot;), (&quot;Shatabdi&quot;, &quot;12:30&quot;), (&quot;Duronto&quot;, &quot;17:00&quot;)"
   ]
  },
  {
   "cell_type": "code",
   "execution_count": 4,
   "id": "04e34589-984c-40c5-a398-108c2bf986fc",
   "metadata": {},
   "outputs": [
    {
     "name": "stdout",
     "output_type": "stream",
     "text": [
      "Train Schedule:\n",
      "Rajdhani - Departure at 10:00\n",
      "Shatabdi - Departure at 12:30\n",
      "Duronto - Departure at 17:00\n"
     ]
    }
   ],
   "source": [
    "# List of tuples: (Train Name, Departure Time)\n",
    "train_schedule = [\n",
    "    (\"Rajdhani\", \"10:00\"),\n",
    "    (\"Shatabdi\", \"12:30\"),\n",
    "    (\"Duronto\", \"17:00\")\n",
    "]\n",
    "\n",
    "# Display the train schedule\n",
    "print(\"Train Schedule:\")\n",
    "for train, time in train_schedule:\n",
    "    print(f\"{train} - Departure at {time}\")\n"
   ]
  },
  {
   "cell_type": "markdown",
   "id": "7a633768-7be0-4250-91f0-0d059cc22fc0",
   "metadata": {},
   "source": [
    "# 5) Sort employee records by salary.\n",
    "(&quot;John&quot;, 40000), (&quot;Alice&quot;, 55000), (&quot;Raj&quot;, 30000)"
   ]
  },
  {
   "cell_type": "code",
   "execution_count": 5,
   "id": "808cee9a-0d43-4fe6-a12a-2021cad83b16",
   "metadata": {},
   "outputs": [
    {
     "name": "stdout",
     "output_type": "stream",
     "text": [
      "Employees Sorted by Salary:\n",
      "Raj: ₹30000\n",
      "John: ₹40000\n",
      "Alice: ₹55000\n"
     ]
    }
   ],
   "source": [
    "# List of tuples: (Employee Name, Salary)\n",
    "employees = [(\"John\", 40000), (\"Alice\", 55000), (\"Raj\", 30000)]\n",
    "\n",
    "# Sort the list by salary (2nd element in tuple)\n",
    "sorted_employees = sorted(employees, key=lambda x: x[1])\n",
    "\n",
    "# Display sorted employee records\n",
    "print(\"Employees Sorted by Salary:\")\n",
    "for name, salary in sorted_employees:\n",
    "    print(f\"{name}: ₹{salary}\")\n"
   ]
  },
  {
   "cell_type": "markdown",
   "id": "e6ee38eb-91d1-4cab-ba23-f3ff47486822",
   "metadata": {},
   "source": [
    "# 6) Count how many students scored above 75 marks.\n",
    "marks = (67, 88, 92, 74, 76, 55)"
   ]
  },
  {
   "cell_type": "code",
   "execution_count": 6,
   "id": "fe9bd741-b5e2-49e3-a723-5d436fd47720",
   "metadata": {},
   "outputs": [
    {
     "name": "stdout",
     "output_type": "stream",
     "text": [
      "Number of students who scored above 75: 3\n"
     ]
    }
   ],
   "source": [
    "# Tuple of student marks\n",
    "marks = (67, 88, 92, 74, 76, 55)\n",
    "\n",
    "# Count how many marks are above 75\n",
    "count = sum(1 for mark in marks if mark > 75)\n",
    "\n",
    "# Display result\n",
    "print(f\"Number of students who scored above 75: {count}\")\n"
   ]
  },
  {
   "cell_type": "markdown",
   "id": "9569d063-bfce-4c29-a265-88d50c766473",
   "metadata": {},
   "source": [
    "# 7) Create a tuple of stock prices and find the max.\n",
    "Prices = (154.5, 160.2, 149.8, 170.1)"
   ]
  },
  {
   "cell_type": "code",
   "execution_count": 7,
   "id": "b2aa292e-63a7-44eb-8198-71dc6417924b",
   "metadata": {},
   "outputs": [
    {
     "name": "stdout",
     "output_type": "stream",
     "text": [
      "Maximum stock price: ₹170.1\n"
     ]
    }
   ],
   "source": [
    "# Tuple of stock prices\n",
    "prices = (154.5, 160.2, 149.8, 170.1)\n",
    "\n",
    "# Find the maximum stock price\n",
    "max_price = max(prices)\n",
    "\n",
    "# Display the result\n",
    "print(f\"Maximum stock price: ₹{max_price}\")\n"
   ]
  },
  {
   "cell_type": "markdown",
   "id": "563cba4f-14bd-4aed-bcb0-bb7b8afdf8f4",
   "metadata": {},
   "source": [
    "# 8) Log temperature readings during the day. Find the average temperature\n",
    "temperatures = (29.5, 30.0, 32.2, 31.5, 28.9)"
   ]
  },
  {
   "cell_type": "code",
   "execution_count": 8,
   "id": "b3e24776-1147-4b0e-b4c9-0efeb43e286d",
   "metadata": {},
   "outputs": [
    {
     "name": "stdout",
     "output_type": "stream",
     "text": [
      "Average Temperature of the Day: 30.42°C\n"
     ]
    }
   ],
   "source": [
    "# Tuple of temperature readings during the day\n",
    "temperatures = (29.5, 30.0, 32.2, 31.5, 28.9)\n",
    "\n",
    "# Calculate the average temperature\n",
    "average_temp = sum(temperatures) / len(temperatures)\n",
    "\n",
    "# Display the average temperature\n",
    "print(f\"Average Temperature of the Day: {average_temp:.2f}°C\")\n"
   ]
  },
  {
   "cell_type": "markdown",
   "id": "33529e14-60ed-4cdd-bd9b-96b34a4396c3",
   "metadata": {},
   "source": [
    "# 9) Schedule appointments (name, time).\n",
    "appointments = (&quot;Doctor&quot;, &quot;10:00 AM&quot;), (&quot;Meeting&quot;, &quot;2:00 PM&quot;)"
   ]
  },
  {
   "cell_type": "code",
   "execution_count": 9,
   "id": "ae28c6cc-0aa9-4fdc-9597-9772b24e3d34",
   "metadata": {},
   "outputs": [
    {
     "name": "stdout",
     "output_type": "stream",
     "text": [
      "Scheduled Appointments:\n",
      "Doctor at 10:00 AM\n",
      "Meeting at 2:00 PM\n"
     ]
    }
   ],
   "source": [
    "# List of appointment tuples: (Appointment Name, Time)\n",
    "appointments = [(\"Doctor\", \"10:00 AM\"), (\"Meeting\", \"2:00 PM\")]\n",
    "\n",
    "# Display the scheduled appointments\n",
    "print(\"Scheduled Appointments:\")\n",
    "for name, time in appointments:\n",
    "    print(f\"{name} at {time}\")\n"
   ]
  },
  {
   "cell_type": "markdown",
   "id": "fa2dbf21-5c0c-4b16-9cd1-8d764791037a",
   "metadata": {},
   "source": [
    "# 10) Store contact info (name, phone number).\n",
    "contacts = (&quot;Anil&quot;, &quot;9876543210&quot;), (&quot;Priya&quot;, &quot;9123456780&quot;)"
   ]
  },
  {
   "cell_type": "code",
   "execution_count": 10,
   "id": "009bf449-5a66-46e4-98ba-37c4b58709a8",
   "metadata": {},
   "outputs": [
    {
     "name": "stdout",
     "output_type": "stream",
     "text": [
      "Name: Anil, Phone: 9876543210\n",
      "Name: Priya, Phone: 9123456780\n"
     ]
    }
   ],
   "source": [
    "contacts = [(\"Anil\", \"9876543210\"), (\"Priya\", \"9123456780\")]\n",
    "\n",
    "# Example: Print all contacts\n",
    "for name, phone in contacts:\n",
    "    print(f\"Name: {name}, Phone: {phone}\")\n"
   ]
  },
  {
   "cell_type": "markdown",
   "id": "d8ec6bfb-a29f-43ed-a399-9bb1a717edc4",
   "metadata": {},
   "source": [
    "# 11) Display exam schedule with subject and time.\n",
    "exams = (&quot;Math&quot;, &quot;9:00 AM&quot;), (&quot;Science&quot;, &quot;11:30 AM&quot;), (&quot;English&quot;, &quot;2:00 PM&quot;)"
   ]
  },
  {
   "cell_type": "code",
   "execution_count": 11,
   "id": "a61a41bd-435c-43d6-a0a8-6dc63d8fe7ec",
   "metadata": {},
   "outputs": [
    {
     "name": "stdout",
     "output_type": "stream",
     "text": [
      "Exam Schedule:\n",
      "Math exam is at 9:00 AM\n",
      "Science exam is at 11:30 AM\n",
      "English exam is at 2:00 PM\n"
     ]
    }
   ],
   "source": [
    "# Storing exam schedule as a list of tuples\n",
    "exams = [(\"Math\", \"9:00 AM\"), (\"Science\", \"11:30 AM\"), (\"English\", \"2:00 PM\")]\n",
    "\n",
    "# Displaying the schedule\n",
    "print(\"Exam Schedule:\")\n",
    "for subject, time in exams:\n",
    "    print(f\"{subject} exam is at {time}\")\n"
   ]
  },
  {
   "cell_type": "code",
   "execution_count": null,
   "id": "4af5d875-5a9c-4446-9bbd-9d044fce1a36",
   "metadata": {},
   "outputs": [],
   "source": []
  }
 ],
 "metadata": {
  "kernelspec": {
   "display_name": "Python 3 (ipykernel)",
   "language": "python",
   "name": "python3"
  },
  "language_info": {
   "codemirror_mode": {
    "name": "ipython",
    "version": 3
   },
   "file_extension": ".py",
   "mimetype": "text/x-python",
   "name": "python",
   "nbconvert_exporter": "python",
   "pygments_lexer": "ipython3",
   "version": "3.12.7"
  }
 },
 "nbformat": 4,
 "nbformat_minor": 5
}
