{
 "cells": [
  {
   "cell_type": "markdown",
   "id": "a3b2db22-e7c4-4475-9d68-84486a056679",
   "metadata": {},
   "source": [
    "# Basic Set Programs"
   ]
  },
  {
   "cell_type": "markdown",
   "id": "986084ae-28b0-4adc-b60a-30c6656d81b2",
   "metadata": {},
   "source": [
    "# 1. Create a set and display its elements"
   ]
  },
  {
   "cell_type": "code",
   "execution_count": 1,
   "id": "9c65a008-e98c-4520-bb0b-6624d45b2340",
   "metadata": {},
   "outputs": [
    {
     "name": "stdout",
     "output_type": "stream",
     "text": [
      "Elements of the set are: {1, 2, 3, 4, 5}\n"
     ]
    }
   ],
   "source": [
    "# Creating a set\n",
    "my_set = {1, 2, 3, 4, 5}\n",
    "\n",
    "# Displaying the elements of the set\n",
    "print(\"Elements of the set are:\", my_set)"
   ]
  },
  {
   "cell_type": "markdown",
   "id": "610f0899-7ba2-4f4a-bd91-77e32e8008a8",
   "metadata": {},
   "source": [
    "# 2. Add an element to a set"
   ]
  },
  {
   "cell_type": "code",
   "execution_count": 2,
   "id": "43bae004-873e-46a0-aace-3c2bf3585468",
   "metadata": {},
   "outputs": [
    {
     "name": "stdout",
     "output_type": "stream",
     "text": [
      "Updated set: {40, 10, 20, 30}\n"
     ]
    }
   ],
   "source": [
    "# Creating a set\n",
    "my_set = {10, 20, 30}\n",
    "\n",
    "# Adding an element to the set\n",
    "my_set.add(40)\n",
    "\n",
    "# Displaying the updated set\n",
    "print(\"Updated set:\", my_set)"
   ]
  },
  {
   "cell_type": "markdown",
   "id": "782e5c3f-2ce4-4c31-9f9b-bdc40a5fa40d",
   "metadata": {},
   "source": [
    "# 3. Remove an element from a set"
   ]
  },
  {
   "cell_type": "code",
   "execution_count": 3,
   "id": "e7a832c2-0cf6-4bd0-bf16-ad2e2d255446",
   "metadata": {},
   "outputs": [
    {
     "name": "stdout",
     "output_type": "stream",
     "text": [
      "Set after removal: {100, 300}\n"
     ]
    }
   ],
   "source": [
    "# Creating a set\n",
    "my_set = {100, 200, 300}\n",
    "\n",
    "# Removing an element\n",
    "my_set.remove(200)\n",
    "\n",
    "# Displaying the updated set\n",
    "print(\"Set after removal:\", my_set)\n"
   ]
  },
  {
   "cell_type": "markdown",
   "id": "203ffc09-2d3b-4efd-a1bb-620f9fb6238b",
   "metadata": {},
   "source": [
    "# 4. Clear all elements from a set"
   ]
  },
  {
   "cell_type": "code",
   "execution_count": 4,
   "id": "2d62ef7e-3cd7-4c36-a82a-753090ca638a",
   "metadata": {},
   "outputs": [
    {
     "name": "stdout",
     "output_type": "stream",
     "text": [
      "Set after clearing: set()\n"
     ]
    }
   ],
   "source": [
    "my_set = {1, 2, 3}\n",
    "my_set.clear()\n",
    "print(\"Set after clearing:\", my_set)"
   ]
  },
  {
   "cell_type": "markdown",
   "id": "d78b7ab7-0e01-420e-8365-f177b55db7e6",
   "metadata": {},
   "source": [
    "# 5. Copy a set to another set\n"
   ]
  },
  {
   "cell_type": "code",
   "execution_count": 5,
   "id": "0c4d0951-8e75-4bbd-aea9-01b9674ed735",
   "metadata": {},
   "outputs": [
    {
     "name": "stdout",
     "output_type": "stream",
     "text": [
      "Copied set: {10, 20, 30}\n"
     ]
    }
   ],
   "source": [
    "original_set = {10, 20, 30}\n",
    "copied_set = original_set.copy()\n",
    "print(\"Copied set:\", copied_set)"
   ]
  },
  {
   "cell_type": "markdown",
   "id": "37db2383-6b57-4019-8b33-50c30dfa7021",
   "metadata": {},
   "source": [
    "# 6. Check if an element exists in a set"
   ]
  },
  {
   "cell_type": "code",
   "execution_count": 6,
   "id": "7fab1adc-b8a0-408a-94b6-4bd47b75b757",
   "metadata": {},
   "outputs": [
    {
     "name": "stdout",
     "output_type": "stream",
     "text": [
      "10 exists in the set\n"
     ]
    }
   ],
   "source": [
    "my_set = {5, 10, 15}\n",
    "if 10 in my_set:\n",
    "    print(\"10 exists in the set\")\n",
    "else:\n",
    "    print(\"10 does not exist in the set\")"
   ]
  },
  {
   "cell_type": "markdown",
   "id": "aeefef5b-ea5a-49f0-bd68-cacdf9077ef0",
   "metadata": {},
   "source": [
    "# 7. Find the length of a set"
   ]
  },
  {
   "cell_type": "code",
   "execution_count": 7,
   "id": "a7717c05-92bb-4fb4-9c86-f3912ccdcbdc",
   "metadata": {},
   "outputs": [
    {
     "name": "stdout",
     "output_type": "stream",
     "text": [
      "Length of set: 4\n"
     ]
    }
   ],
   "source": [
    "my_set = {1, 2, 3, 4}\n",
    "print(\"Length of set:\", len(my_set))"
   ]
  },
  {
   "cell_type": "markdown",
   "id": "155ca049-5215-4965-bc80-4c77458eb009",
   "metadata": {},
   "source": [
    "# 8. Iterate through a set using a loop"
   ]
  },
  {
   "cell_type": "code",
   "execution_count": 8,
   "id": "2ea5c3a1-07e0-43eb-9fb1-b9ff15f19c54",
   "metadata": {},
   "outputs": [
    {
     "name": "stdout",
     "output_type": "stream",
     "text": [
      "banana\n",
      "cherry\n",
      "apple\n"
     ]
    }
   ],
   "source": [
    "my_set = {\"apple\", \"banana\", \"cherry\"}\n",
    "for item in my_set:\n",
    "    print(item)"
   ]
  },
  {
   "cell_type": "markdown",
   "id": "29ed12f6-dae6-4d12-9508-65002b981af4",
   "metadata": {},
   "source": [
    "# Set Operations"
   ]
  },
  {
   "cell_type": "markdown",
   "id": "f1796d06-c6c1-4251-b578-36b6ebc8cae6",
   "metadata": {},
   "source": [
    "# 9. Find the union of two sets"
   ]
  },
  {
   "cell_type": "code",
   "execution_count": 9,
   "id": "0cdf31ac-cc90-48a7-b70b-4e8888037bf6",
   "metadata": {},
   "outputs": [
    {
     "name": "stdout",
     "output_type": "stream",
     "text": [
      "Union: {1, 2, 3, 4, 5}\n"
     ]
    }
   ],
   "source": [
    "set1 = {1, 2, 3}\n",
    "set2 = {3, 4, 5}\n",
    "union_set = set1.union(set2)\n",
    "print(\"Union:\", union_set)"
   ]
  },
  {
   "cell_type": "markdown",
   "id": "864e68df-35ee-4b39-8873-b99afd9d643f",
   "metadata": {},
   "source": [
    "# 10. Find the intersection of two sets"
   ]
  },
  {
   "cell_type": "code",
   "execution_count": 10,
   "id": "0907a1f3-47ee-49d2-8d77-08df2a1d311c",
   "metadata": {},
   "outputs": [
    {
     "name": "stdout",
     "output_type": "stream",
     "text": [
      "Intersection: {3}\n"
     ]
    }
   ],
   "source": [
    "intersection_set = set1.intersection(set2)\n",
    "print(\"Intersection:\", intersection_set)"
   ]
  },
  {
   "cell_type": "markdown",
   "id": "02f007a2-35eb-42ee-9bee-1f634c3a879f",
   "metadata": {},
   "source": [
    "# 11. Find the difference between two sets"
   ]
  },
  {
   "cell_type": "code",
   "execution_count": 11,
   "id": "0f6bb7c5-0eeb-4763-b8de-33d456838b9c",
   "metadata": {},
   "outputs": [
    {
     "name": "stdout",
     "output_type": "stream",
     "text": [
      "Difference (set1 - set2): {1, 2}\n"
     ]
    }
   ],
   "source": [
    "difference_set = set1.difference(set2)\n",
    "print(\"Difference (set1 - set2):\", difference_set)"
   ]
  },
  {
   "cell_type": "markdown",
   "id": "e48347df-2e5c-47c3-948c-651e90c3fefa",
   "metadata": {},
   "source": [
    "# 12. Find the symmetric difference between two sets"
   ]
  },
  {
   "cell_type": "code",
   "execution_count": 12,
   "id": "42b14152-22ee-42a3-b777-67790d665756",
   "metadata": {},
   "outputs": [
    {
     "name": "stdout",
     "output_type": "stream",
     "text": [
      "Symmetric Difference: {1, 2, 4, 5}\n"
     ]
    }
   ],
   "source": [
    "sym_diff_set = set1.symmetric_difference(set2)\n",
    "print(\"Symmetric Difference:\", sym_diff_set)"
   ]
  },
  {
   "cell_type": "markdown",
   "id": "a6f5d9f7-f399-437c-b6ca-47bce9a56ff2",
   "metadata": {},
   "source": [
    "# 13. Check if one set is a subset of another"
   ]
  },
  {
   "cell_type": "code",
   "execution_count": 13,
   "id": "bcf776da-3e5d-4df5-a9cf-0ea92c83dff6",
   "metadata": {},
   "outputs": [
    {
     "name": "stdout",
     "output_type": "stream",
     "text": [
      "Is small_set a subset of set1? True\n"
     ]
    }
   ],
   "source": [
    "small_set = {1, 2}\n",
    "print(\"Is small_set a subset of set1?\", small_set.issubset(set1))"
   ]
  },
  {
   "cell_type": "markdown",
   "id": "9591e968-fbd5-4789-ab9d-8e0275592412",
   "metadata": {},
   "source": [
    "# 14. Check if one set is a superset of another"
   ]
  },
  {
   "cell_type": "code",
   "execution_count": 14,
   "id": "145977fb-982f-4e0a-974d-094025e75c6a",
   "metadata": {},
   "outputs": [
    {
     "name": "stdout",
     "output_type": "stream",
     "text": [
      "Is set1 a superset of small_set? True\n"
     ]
    }
   ],
   "source": [
    "print(\"Is set1 a superset of small_set?\", set1.issuperset(small_set))"
   ]
  },
  {
   "cell_type": "markdown",
   "id": "c6ea2cd2-4e4c-49ff-9859-b3660c106f1b",
   "metadata": {},
   "source": [
    "# 15. Check if two sets are disjoint"
   ]
  },
  {
   "cell_type": "code",
   "execution_count": 15,
   "id": "69575042-9672-4b21-9df8-c0600ee2ef7d",
   "metadata": {},
   "outputs": [
    {
     "name": "stdout",
     "output_type": "stream",
     "text": [
      "Are set1 and set3 disjoint? True\n"
     ]
    }
   ],
   "source": [
    "set3 = {6, 7}\n",
    "print(\"Are set1 and set3 disjoint?\", set1.isdisjoint(set3))"
   ]
  },
  {
   "cell_type": "markdown",
   "id": "bd46092a-bc4c-4fe2-b29b-4d796786a303",
   "metadata": {},
   "source": [
    "# Set Application"
   ]
  },
  {
   "cell_type": "markdown",
   "id": "5fce5218-ff96-4f72-9d5e-6f5617ce4901",
   "metadata": {},
   "source": [
    "# 16. Remove duplicates from a list using a set"
   ]
  },
  {
   "cell_type": "code",
   "execution_count": 16,
   "id": "d3b0ba60-8a2b-470f-893f-9dae7454271c",
   "metadata": {},
   "outputs": [
    {
     "name": "stdout",
     "output_type": "stream",
     "text": [
      "List after removing duplicates: {1, 2, 3, 4, 5}\n"
     ]
    }
   ],
   "source": [
    "my_list = [1, 2, 2, 3, 4, 4, 5]\n",
    "unique_items = set(my_list)\n",
    "print(\"List after removing duplicates:\", unique_items)"
   ]
  },
  {
   "cell_type": "markdown",
   "id": "10f9bb71-3ed4-40f3-bf63-0f209232083c",
   "metadata": {},
   "source": [
    "# 17. Convert a list to a set and back to a list"
   ]
  },
  {
   "cell_type": "code",
   "execution_count": 17,
   "id": "7f1a937b-66af-483f-8add-c5c9cf73008e",
   "metadata": {},
   "outputs": [
    {
     "name": "stdout",
     "output_type": "stream",
     "text": [
      "Converted list: [1, 2, 3]\n"
     ]
    }
   ],
   "source": [
    "original_list = [1, 2, 2, 3]\n",
    "converted_set = set(original_list)\n",
    "new_list = list(converted_set)\n",
    "print(\"Converted list:\", new_list)"
   ]
  },
  {
   "cell_type": "markdown",
   "id": "f622b5ba-9b29-4591-988a-2af78837ff2d",
   "metadata": {},
   "source": [
    "# 18. Find common elements in two lists using sets"
   ]
  },
  {
   "cell_type": "code",
   "execution_count": 19,
   "id": "0f5df10a-61ac-4afe-bfcb-e1d0a532ec5a",
   "metadata": {},
   "outputs": [
    {
     "name": "stdout",
     "output_type": "stream",
     "text": [
      "Common elements: {3, 4}\n"
     ]
    }
   ],
   "source": [
    "list1 = [1, 2, 3, 4]\n",
    "list2 = [3, 4, 5, 6]\n",
    "common = set(list1).intersection(list2)\n",
    "print(\"Common elements:\", common)"
   ]
  },
  {
   "cell_type": "markdown",
   "id": "6410eefd-1e89-42c4-8aa5-612bb44abb1e",
   "metadata": {},
   "source": [
    "# 19. Get elements in one list but not in another using sets"
   ]
  },
  {
   "cell_type": "code",
   "execution_count": 20,
   "id": "52ba25a5-eecc-401b-add2-f346798c74b1",
   "metadata": {},
   "outputs": [
    {
     "name": "stdout",
     "output_type": "stream",
     "text": [
      "Elements in list1 but not in list2: {1, 2}\n"
     ]
    }
   ],
   "source": [
    "only_in_list1 = set(list1).difference(list2)\n",
    "print(\"Elements in list1 but not in list2:\", only_in_list1)"
   ]
  },
  {
   "cell_type": "markdown",
   "id": "c8e47ede-27f6-49fc-97a7-5f26b9040b5b",
   "metadata": {},
   "source": [
    "# 20. Use set comprehension to generate a set (e.g., squares or primes)"
   ]
  },
  {
   "cell_type": "code",
   "execution_count": 21,
   "id": "ee9fa298-f144-4f9b-abd8-9dd0ca3efc6c",
   "metadata": {},
   "outputs": [
    {
     "name": "stdout",
     "output_type": "stream",
     "text": [
      "Set of squares: {1, 4, 9, 16, 25}\n"
     ]
    }
   ],
   "source": [
    "squares = {x**2 for x in range(1, 6)}\n",
    "print(\"Set of squares:\", squares)"
   ]
  },
  {
   "cell_type": "markdown",
   "id": "fba75350-01bc-429b-8556-61ec07cc26e9",
   "metadata": {},
   "source": [
    "# Frozen Set Programs"
   ]
  },
  {
   "cell_type": "markdown",
   "id": "1ee67a21-d612-4e93-b938-3b70ac883f25",
   "metadata": {},
   "source": [
    "# 21. Create and print a frozenset"
   ]
  },
  {
   "cell_type": "code",
   "execution_count": 22,
   "id": "c51e3fd8-7aad-4a91-9e80-e0a5cfc8b0ac",
   "metadata": {},
   "outputs": [
    {
     "name": "stdout",
     "output_type": "stream",
     "text": [
      "Frozenset: frozenset({40, 10, 20, 30})\n"
     ]
    }
   ],
   "source": [
    "my_frozenset = frozenset([10, 20, 30, 40])\n",
    "print(\"Frozenset:\", my_frozenset)"
   ]
  },
  {
   "cell_type": "code",
   "execution_count": null,
   "id": "7bf3dbe9-a048-4df2-8d6d-f3620df794ff",
   "metadata": {},
   "outputs": [],
   "source": []
  }
 ],
 "metadata": {
  "kernelspec": {
   "display_name": "Python 3 (ipykernel)",
   "language": "python",
   "name": "python3"
  },
  "language_info": {
   "codemirror_mode": {
    "name": "ipython",
    "version": 3
   },
   "file_extension": ".py",
   "mimetype": "text/x-python",
   "name": "python",
   "nbconvert_exporter": "python",
   "pygments_lexer": "ipython3",
   "version": "3.12.7"
  }
 },
 "nbformat": 4,
 "nbformat_minor": 5
}
