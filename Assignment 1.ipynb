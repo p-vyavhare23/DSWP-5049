{
 "cells": [
  {
   "cell_type": "markdown",
   "id": "3bf8349e-0519-4efe-9006-7425bc3b5b8f",
   "metadata": {},
   "source": [
    "# Check the given Numbers are Odd or Even"
   ]
  },
  {
   "cell_type": "code",
   "execution_count": 1,
   "id": "b0abd9b9-2f60-4173-9641-4c8d6c201d3a",
   "metadata": {},
   "outputs": [
    {
     "name": "stdin",
     "output_type": "stream",
     "text": [
      "Enter a number: 43\n"
     ]
    },
    {
     "name": "stdout",
     "output_type": "stream",
     "text": [
      "43 is Odd\n"
     ]
    }
   ],
   "source": [
    "num = int(input(\"Enter a number:\"))\n",
    "\n",
    "if num % 2 == 0:\n",
    "    print(f\"{num} is Even\")\n",
    "else:\n",
    "    print(f\"{num} is Odd\")"
   ]
  },
  {
   "cell_type": "markdown",
   "id": "92db398a-432e-458f-85db-01fe2e8c9f0e",
   "metadata": {},
   "source": [
    "# Count the Total number of digits in a Number"
   ]
  },
  {
   "cell_type": "code",
   "execution_count": 2,
   "id": "bcfff1ca-6133-4cf6-af65-23b552e365c0",
   "metadata": {},
   "outputs": [
    {
     "name": "stdin",
     "output_type": "stream",
     "text": [
      "Enter a number:  43\n"
     ]
    },
    {
     "name": "stdout",
     "output_type": "stream",
     "text": [
      "Total number of digits: 2\n"
     ]
    }
   ],
   "source": [
    "num = input(\"Enter a number: \")\n",
    "\n",
    "num = num.lstrip('-')\n",
    "\n",
    "if num.isdigit():\n",
    "    print(f\"Total number of digits: {len(num)}\")\n",
    "else:\n",
    "    print(\"Invalid input! Please enter an integer.\")"
   ]
  },
  {
   "cell_type": "markdown",
   "id": "cb60cee4-19b5-468c-9371-464d01ad96b9",
   "metadata": {},
   "source": [
    "# Python program to print the reverse number pattern using a for Loop"
   ]
  },
  {
   "cell_type": "code",
   "execution_count": 3,
   "id": "1513d4bd-d2d6-4151-a2b0-d25b1c37cc3d",
   "metadata": {},
   "outputs": [
    {
     "name": "stdout",
     "output_type": "stream",
     "text": [
      "5 4 3 2 1 \n",
      "4 3 2 1 \n",
      "3 2 1 \n",
      "2 1 \n",
      "1 \n"
     ]
    }
   ],
   "source": [
    "rows = 5\n",
    "\n",
    "for i in range(rows, 0, -1):\n",
    "    for j in range(i, 0, -1):\n",
    "        print(j, end=\" \")\n",
    "    print()"
   ]
  },
  {
   "cell_type": "markdown",
   "id": "e8021506-255c-480a-8283-2305720f2e6a",
   "metadata": {},
   "source": [
    "# Print all Prime Numbers within a Range"
   ]
  },
  {
   "cell_type": "code",
   "execution_count": 4,
   "id": "f1a487f6-a0a4-4ed6-b6d9-e4dde6184c03",
   "metadata": {},
   "outputs": [
    {
     "name": "stdin",
     "output_type": "stream",
     "text": [
      "Enter the start of the range:  15\n",
      "Enter the end of the range:  45\n"
     ]
    },
    {
     "name": "stdout",
     "output_type": "stream",
     "text": [
      "Prime numbers between 15 and 45 are:\n",
      "17 19 23 29 31 37 41 43 "
     ]
    }
   ],
   "source": [
    "def is_prime(n):\n",
    "    if n <= 1:\n",
    "        return False\n",
    "    for i in range(2, int(n**0.5) + 1):\n",
    "        if n % i == 0:\n",
    "            return False\n",
    "    return True\n",
    "\n",
    "# Get range from the user\n",
    "start = int(input(\"Enter the start of the range: \"))\n",
    "end = int(input(\"Enter the end of the range: \"))\n",
    "\n",
    "print(f\"Prime numbers between {start} and {end} are:\")\n",
    "for num in range(start, end + 1):\n",
    "    if is_prime(num):\n",
    "        print(num, end=\" \")"
   ]
  },
  {
   "cell_type": "markdown",
   "id": "f11d5555-6daa-4ac1-8793-263d7d98660f",
   "metadata": {},
   "source": [
    "# Find Factorial of a given Number"
   ]
  },
  {
   "cell_type": "code",
   "execution_count": 5,
   "id": "545b1c59-1a60-44e3-890b-797a3c39242b",
   "metadata": {},
   "outputs": [
    {
     "name": "stdin",
     "output_type": "stream",
     "text": [
      "Enter a number:  5\n"
     ]
    },
    {
     "name": "stdout",
     "output_type": "stream",
     "text": [
      "The factorial of 5 is 120\n"
     ]
    }
   ],
   "source": [
    "num = int(input(\"Enter a number: \"))\n",
    "\n",
    "# Check if the number is negative, zero, or positive\n",
    "if num < 0:\n",
    "    print(\"Factorial is not defined for negative numbers.\")\n",
    "elif num == 0:\n",
    "    print(\"The factorial of 0 is 1.\")\n",
    "else:\n",
    "    factorial = 1\n",
    "    for i in range(1, num + 1):\n",
    "        factorial *= i\n",
    "    print(f\"The factorial of {num} is {factorial}\")"
   ]
  },
  {
   "cell_type": "markdown",
   "id": "33053493-3ef8-4813-b123-1b4b5133327a",
   "metadata": {},
   "source": [
    "# Program to check if Numbers is Palindrome"
   ]
  },
  {
   "cell_type": "code",
   "execution_count": 6,
   "id": "9791d244-bfaf-41d4-b86b-7db016cea11c",
   "metadata": {},
   "outputs": [
    {
     "name": "stdin",
     "output_type": "stream",
     "text": [
      "Enter a number:  121\n"
     ]
    },
    {
     "name": "stdout",
     "output_type": "stream",
     "text": [
      "121 is a palindrome.\n"
     ]
    }
   ],
   "source": [
    "num = input(\"Enter a number: \")\n",
    "\n",
    "# Check if the number is the same when reversed\n",
    "if num == num[::-1]:\n",
    "    print(f\"{num} is a palindrome.\")\n",
    "else:\n",
    "    print(f\"{num} is not a palindrome.\")\n"
   ]
  },
  {
   "cell_type": "markdown",
   "id": "c821353d-ae8f-4256-825a-6c278ae0614d",
   "metadata": {},
   "source": [
    "# Program to Check Armstrong Number"
   ]
  },
  {
   "cell_type": "code",
   "execution_count": 7,
   "id": "d66d1f04-7e28-4e31-9db9-57f1f23b29ec",
   "metadata": {},
   "outputs": [
    {
     "name": "stdin",
     "output_type": "stream",
     "text": [
      "Enter a number:  153\n"
     ]
    },
    {
     "name": "stdout",
     "output_type": "stream",
     "text": [
      "153 is an Armstrong number.\n"
     ]
    }
   ],
   "source": [
    "num = int(input(\"Enter a number: \"))\n",
    "\n",
    "# Convert the number to a string to count digits\n",
    "num_str = str(num)\n",
    "n = len(num_str)\n",
    "\n",
    "# Calculate the sum of each digit raised to the power of number of digits\n",
    "sum_of_powers = sum(int(digit) ** n for digit in num_str)\n",
    "\n",
    "# Check if the sum equals the original number\n",
    "if num == sum_of_powers:\n",
    "    print(f\"{num} is an Armstrong number.\")\n",
    "else:\n",
    "    print(f\"{num} is not an Armstrong number.\")"
   ]
  },
  {
   "cell_type": "markdown",
   "id": "ed216920-1836-43ea-97eb-ce65c8bdda03",
   "metadata": {},
   "source": [
    "# Find Maximum of three Numbers"
   ]
  },
  {
   "cell_type": "code",
   "execution_count": 9,
   "id": "37478c1e-6c8e-4921-b2fa-a78b5de792e9",
   "metadata": {},
   "outputs": [
    {
     "name": "stdin",
     "output_type": "stream",
     "text": [
      "Enter first number:  10\n",
      "Enter second number:  25\n",
      "Enter third number:  15\n"
     ]
    },
    {
     "name": "stdout",
     "output_type": "stream",
     "text": [
      "The maximum number is: 25.0\n"
     ]
    }
   ],
   "source": [
    "a = float(input(\"Enter first number: \"))\n",
    "b = float(input(\"Enter second number: \"))\n",
    "c = float(input(\"Enter third number: \"))\n",
    "\n",
    "if a >= b and a >= c:\n",
    "    max_num = a\n",
    "elif b >= a and b >= c:\n",
    "    max_num = b\n",
    "else:\n",
    "    max_num = c\n",
    "\n",
    "print(f\"The maximum number is: {max_num}\")"
   ]
  },
  {
   "cell_type": "markdown",
   "id": "e00b5909-4f3e-4978-bfde-ab6b902d5bb8",
   "metadata": {},
   "source": [
    "# Find the Sum of Digits"
   ]
  },
  {
   "cell_type": "code",
   "execution_count": 10,
   "id": "80957bb5-53c4-447f-8151-40b6d3083982",
   "metadata": {},
   "outputs": [
    {
     "name": "stdin",
     "output_type": "stream",
     "text": [
      "Enter a number:  12345\n"
     ]
    },
    {
     "name": "stdout",
     "output_type": "stream",
     "text": [
      "Sum of digits is: 15\n"
     ]
    }
   ],
   "source": [
    "num = int(input(\"Enter a number: \"))\n",
    "\n",
    "num = abs(num)\n",
    "\n",
    "sum_of_digits = 0\n",
    "\n",
    "while num > 0:\n",
    "    digit = num % 10         # Get the last digit\n",
    "    sum_of_digits += digit   # Add it to the sum\n",
    "    num //= 10               # Remove the last digit\n",
    "\n",
    "print(f\"Sum of digits is: {sum_of_digits}\")"
   ]
  },
  {
   "cell_type": "markdown",
   "id": "913e4503-fdfd-4a01-89ac-e3fbe04ba903",
   "metadata": {},
   "source": [
    "# Python Program to Print the Natural Numbers Summation Pattern"
   ]
  },
  {
   "cell_type": "code",
   "execution_count": null,
   "id": "6d7316c3-f7c0-4dde-86d8-65a6dc99a957",
   "metadata": {},
   "outputs": [],
   "source": [
    "n = int(input(\"Enter a natural number: \"))\n",
    "\n",
    "total_sum = 0\n",
    "\n",
    "print(\"Summation pattern:\")\n",
    "\n",
    "for i in range(1, n + 1):\n",
    "    total_sum += i\n",
    "    \n",
    "    for j in range(1, i + 1):\n",
    "        if j == i:\n",
    "            print(j, end=\" = \")\n",
    "        else:\n",
    "            print(j, end=\" + \")\n",
    "    print(total_sum)"
   ]
  },
  {
   "cell_type": "code",
   "execution_count": null,
   "id": "3df08e00-11f7-40d6-84f7-297cdc3f4ab4",
   "metadata": {},
   "outputs": [],
   "source": [
    "a, b, c = 10, 25, 15\n",
    "print(\"maximum number is:\"max(a, b, c))"
   ]
  },
  {
   "cell_type": "code",
   "execution_count": null,
   "id": "373611d6-332d-4a11-a163-1054900886df",
   "metadata": {},
   "outputs": [],
   "source": []
  }
 ],
 "metadata": {
  "kernelspec": {
   "display_name": "Python 3 (ipykernel)",
   "language": "python",
   "name": "python3"
  },
  "language_info": {
   "codemirror_mode": {
    "name": "ipython",
    "version": 3
   },
   "file_extension": ".py",
   "mimetype": "text/x-python",
   "name": "python",
   "nbconvert_exporter": "python",
   "pygments_lexer": "ipython3",
   "version": "3.12.7"
  }
 },
 "nbformat": 4,
 "nbformat_minor": 5
}
